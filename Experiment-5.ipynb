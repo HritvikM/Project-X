{
 "cells": [
  {
   "cell_type": "code",
   "execution_count": 1,
   "metadata": {
    "collapsed": true
   },
   "outputs": [
    {
     "name": "stdout",
     "output_type": "stream",
     "text": [
      "Path from A to D: ['A', 'C', 'D']\n"
     ]
    }
   ],
   "source": [
    "from queue import PriorityQueue\n",
    "\n",
    "class Node:\n",
    "    def __init__(self, path, bound):\n",
    "        self.path = path\n",
    "        self.bound = bound\n",
    "\n",
    "    def __lt__(self, other):\n",
    "        return self.bound < other.bound\n",
    "\n",
    "def branch_and_bound_search(graph, start, goal):\n",
    "    visited = set()\n",
    "    queue = PriorityQueue()\n",
    "    queue.put(Node([start], 0))\n",
    "    while not queue.empty():\n",
    "        node = queue.get()\n",
    "        if node.path[-1] not in visited:\n",
    "            visited.add(node.path[-1])\n",
    "            if node.path[-1] == goal:\n",
    "                return node.path\n",
    "            for neighbor, weight in graph[node.path[-1]].items():\n",
    "                if neighbor not in visited:\n",
    "                    path = node.path + [neighbor]\n",
    "                    bound = node.bound + weight\n",
    "                    queue.put(Node(path, bound))\n",
    "    return None # If there is no path from start to goal\n",
    "\n",
    "# Example usage\n",
    "graph = {\n",
    "    'A': {'B': 2, 'C': 3},\n",
    "    'B': {'D': 5},\n",
    "    'C': {'D': 1},\n",
    "    'D': {}\n",
    "}\n",
    "start = 'A'\n",
    "goal = 'D'\n",
    "result = branch_and_bound_search(graph, start, goal)\n",
    "print(f\"Path from {start} to {goal}: {result}\")\n"
   ]
  },
  {
   "cell_type": "code",
   "execution_count": 4,
   "outputs": [
    {
     "name": "stdout",
     "output_type": "stream",
     "text": [
      "Best path: [0, 1, 3, 2]\n",
      "Best length: 80\n"
     ]
    }
   ],
   "source": [
    "import heapq\n",
    "import itertools\n",
    "\n",
    "\n",
    "def tsp_branch_and_bound(graph, start):\n",
    "    n = len(graph)\n",
    "    inf = float('inf')\n",
    "\n",
    "    # Create a priority queue to store the nodes to be expanded\n",
    "    queue = [(0, [start], {start})]\n",
    "\n",
    "    # Initialize the best path and its length\n",
    "    best_path = None\n",
    "    best_length = inf\n",
    "\n",
    "    # Loop until the queue is empty\n",
    "    while queue:\n",
    "        # Pop the node with the lowest lower bound from the queue\n",
    "        _, path, visited = heapq.heappop(queue)\n",
    "\n",
    "        # If the path includes all nodes, update the best path and its length\n",
    "        if len(path) == n:\n",
    "            length = sum(graph[path[i]][path[i+1]] for i in range(n-1)) + graph[path[-1]][path[0]]\n",
    "            if length < best_length:\n",
    "                best_path = path\n",
    "                best_length = length\n",
    "\n",
    "        # Otherwise, expand the node by adding all unvisited nodes to the path\n",
    "        else:\n",
    "            for node in range(n):\n",
    "                if node not in visited:\n",
    "                    lower_bound = sum(min(graph[i][j] for j in range(n) if j != i) for i in visited) + graph[path[-1]][node]\n",
    "                    if lower_bound < best_length:\n",
    "                        new_path = path + [node]\n",
    "                        new_visited = visited.union([node])\n",
    "                        heapq.heappush(queue, (lower_bound, new_path, new_visited))\n",
    "\n",
    "    return best_path, best_length\n",
    "\n",
    "\n",
    "# Example usage\n",
    "graph = [[0, 10, 15, 20],\n",
    "         [10, 0, 35, 25],\n",
    "         [15, 35, 0, 30],\n",
    "         [20, 25, 30, 0]]\n",
    "\n",
    "start = 0\n",
    "\n",
    "best_path, best_length = tsp_branch_and_bound(graph, start)\n",
    "\n",
    "print('Best path:', best_path)\n",
    "print('Best length:', best_length)\n"
   ],
   "metadata": {
    "collapsed": false
   }
  },
  {
   "cell_type": "code",
   "execution_count": null,
   "outputs": [],
   "source": [],
   "metadata": {
    "collapsed": false
   }
  }
 ],
 "metadata": {
  "kernelspec": {
   "display_name": "Python 3",
   "language": "python",
   "name": "python3"
  },
  "language_info": {
   "codemirror_mode": {
    "name": "ipython",
    "version": 2
   },
   "file_extension": ".py",
   "mimetype": "text/x-python",
   "name": "python",
   "nbconvert_exporter": "python",
   "pygments_lexer": "ipython2",
   "version": "2.7.6"
  }
 },
 "nbformat": 4,
 "nbformat_minor": 0
}
